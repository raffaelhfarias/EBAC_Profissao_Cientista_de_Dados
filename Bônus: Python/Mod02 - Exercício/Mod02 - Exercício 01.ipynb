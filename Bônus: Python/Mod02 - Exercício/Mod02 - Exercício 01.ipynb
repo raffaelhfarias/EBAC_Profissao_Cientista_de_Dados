{
  "nbformat": 4,
  "nbformat_minor": 0,
  "metadata": {
    "colab": {
      "name": "modulo_2_exercicios.ipynb",
      "provenance": [],
      "collapsed_sections": [],
      "toc_visible": true
    },
    "kernelspec": {
      "name": "python3",
      "display_name": "Python 3"
    }
  },
  "cells": [
    {
      "cell_type": "markdown",
      "metadata": {
        "id": "KJqp9AANOCtf"
      },
      "source": [
        "<img src=\"https://raw.githubusercontent.com/andre-marcos-perez/ebac-course-utils/main/media/logo/newebac_logo_black_half.png\" alt=\"ebac-logo\">\n",
        "\n",
        "---\n",
        "\n",
        "# **Módulo 02** | Python: Estruturas de Dados\n",
        "Caderno de **Exercícios**<br> \n",
        "Professor [André Perez](https://www.linkedin.com/in/andremarcosperez/)\n",
        "\n",
        "---"
      ]
    },
    {
      "cell_type": "markdown",
      "metadata": {
        "id": "d9jDtUbDOE1-"
      },
      "source": [
        "# **Tópicos**\n",
        "\n",
        "<ol type=\"1\">\n",
        "  <li>Listas;</li>\n",
        "  <li>Conjuntos;</li>\n",
        "  <li>Dicionários.</li>\n",
        "</ol>"
      ]
    },
    {
      "cell_type": "markdown",
      "metadata": {
        "id": "SmoHgt-lwkpD"
      },
      "source": [
        "---"
      ]
    },
    {
      "cell_type": "markdown",
      "metadata": {
        "id": "GABI6OW8OfQ2"
      },
      "source": [
        "# **Exercícios**"
      ]
    },
    {
      "cell_type": "markdown",
      "metadata": {
        "id": "muD1vxozykSC"
      },
      "source": [
        "## 1\\. Listas"
      ]
    },
    {
      "cell_type": "markdown",
      "metadata": {
        "id": "ahrFfCuBxJKs"
      },
      "source": [
        "Criei uma lista chamada `filmes` com o nome dos 10 primeiros filmes mais bem avaliados no site no [IMDB](https://www.imdb.com/chart/top/). Imprima o resultado."
      ]
    },
    {
      "cell_type": "code",
      "source": [
        "filmes = list((\"1. Um Sonho de Liberdade\", \"2. O Poderoso Chefão\", \"3. O Poderoso Chefão II\", \"4. Batman: O Cavaleiro das Trevas\", \"5. 12 Homens e uma Sentença\", \"6. A Lista de Schindler\", \"7 . O Senhor dos Anéis: O Retorno do Rei\", \"8. Pulp Fiction: Tempo de Violência\", \"9. Homem Aranha sem volta pra Casa\", \"10. Três Homens em Conflito\"))\n",
        "\n",
        "print(filmes)\n",
        "print(type(filmes))\n"
      ],
      "metadata": {
        "colab": {
          "base_uri": "https://localhost:8080/"
        },
        "id": "giFS5VV_ShNG",
        "outputId": "0e47d5b7-2e57-4ac3-b95c-390cfc9c7674"
      },
      "execution_count": 19,
      "outputs": [
        {
          "output_type": "stream",
          "name": "stdout",
          "text": [
            "['1. Um Sonho de Liberdade', '2. O Poderoso Chefão', '3. O Poderoso Chefão II', '4. Batman: O Cavaleiro das Trevas', '5. 12 Homens e uma Sentença', '6. A Lista de Schindler', '7 . O Senhor dos Anéis: O Retorno do Rei', '8. Pulp Fiction: Tempo de Violência', '9. Homem Aranha sem volta pra Casa', '10. Três Homens em Conflito']\n",
            "<class 'list'>\n"
          ]
        }
      ]
    },
    {
      "cell_type": "code",
      "metadata": {
        "id": "OgL6Hv3bzOHI"
      },
      "source": [
        ""
      ],
      "execution_count": null,
      "outputs": []
    },
    {
      "cell_type": "markdown",
      "metadata": {
        "id": "KI9zQRT2xa7m"
      },
      "source": [
        "Simule a movimentação do *ranking*. Utilize os métodos `insert` e `pop` para trocar a posição do primeiro e do segundo filme da lista. Imprima o resultado.\n",
        "\n"
      ]
    },
    {
      "cell_type": "code",
      "metadata": {
        "id": "zX3mA3_GzrXH",
        "colab": {
          "base_uri": "https://localhost:8080/"
        },
        "outputId": "23a65f84-5cb7-4c35-e46c-1c44cc503e30"
      },
      "source": [
        "filmes = list((\"Um Sonho de Liberdade\", \"O Poderoso Chefão\", \"O Poderoso Chefão II\", \"Batman: O Cavaleiro das Trevas\", \"12 Homens e uma Sentença\", \"A Lista de Schindler\", \"O Senhor dos Anéis: O Retorno do Rei\", \"Pulp Fiction: Tempo de Violência\", \"Homem Aranha sem volta pra Casa\", \"Três Homens em Conflito\"))\n",
        "filmes.insert(0,\"Batman: O Cavaleiro das Trevas\")\n",
        "filmes.pop(1)\n",
        "print(filmes)"
      ],
      "execution_count": 32,
      "outputs": [
        {
          "output_type": "stream",
          "name": "stdout",
          "text": [
            "['Batman: O Cavaleiro das Trevas', 'O Poderoso Chefão', 'O Poderoso Chefão II', 'Batman: O Cavaleiro das Trevas', '12 Homens e uma Sentença', 'A Lista de Schindler', 'O Senhor dos Anéis: O Retorno do Rei', 'Pulp Fiction: Tempo de Violência', 'Homem Aranha sem volta pra Casa', 'Três Homens em Conflito']\n"
          ]
        }
      ]
    },
    {
      "cell_type": "markdown",
      "metadata": {
        "id": "zMN1Q3jdwoJm"
      },
      "source": [
        "---"
      ]
    },
    {
      "cell_type": "markdown",
      "metadata": {
        "id": "lxa5L6uF0ZJE"
      },
      "source": [
        "## 2\\. Conjuntos"
      ]
    },
    {
      "cell_type": "markdown",
      "metadata": {
        "id": "9JahS2Kj0d5u"
      },
      "source": [
        "Aconteceu um erro no seu *ranking*. Simule a duplicação dos três últimos filmes da lista. Imprima o resultado."
      ]
    },
    {
      "cell_type": "code",
      "metadata": {
        "id": "BnjnLBNC6PGe",
        "colab": {
          "base_uri": "https://localhost:8080/"
        },
        "outputId": "7700ecda-5046-4e24-86f0-08519784203c"
      },
      "source": [
        "filmes = list((\"Um Sonho de Liberdade\", \"O Poderoso Chefão\", \"O Poderoso Chefão II\", \"Batman: O Cavaleiro das Trevas\", \"12 Homens e uma Sentença\", \"A Lista de Schindler\", \"O Senhor dos Anéis: O Retorno do Rei\", \"Pulp Fiction: Tempo de Violência\", \"Homem Aranha sem volta pra Casa\", \"Três Homens em Conflito\", \"Pulp Fiction: Tempo de Violência\", \"Homem Aranha sem volta pra Casa\", \"Três Homens em Conflito\"))\n",
        "print(filmes)\n",
        "print(type(filmes))"
      ],
      "execution_count": 34,
      "outputs": [
        {
          "output_type": "stream",
          "name": "stdout",
          "text": [
            "['Um Sonho de Liberdade', 'O Poderoso Chefão', 'O Poderoso Chefão II', 'Batman: O Cavaleiro das Trevas', '12 Homens e uma Sentença', 'A Lista de Schindler', 'O Senhor dos Anéis: O Retorno do Rei', 'Pulp Fiction: Tempo de Violência', 'Homem Aranha sem volta pra Casa', 'Três Homens em Conflito', 'Pulp Fiction: Tempo de Violência', 'Homem Aranha sem volta pra Casa', 'Três Homens em Conflito']\n",
            "<class 'list'>\n"
          ]
        }
      ]
    },
    {
      "cell_type": "markdown",
      "metadata": {
        "id": "suxTfCJB6ZiX"
      },
      "source": [
        "Utiliza a conversão `set` e `list` para remover os valores duplicados. Imprima o resultado. "
      ]
    },
    {
      "cell_type": "code",
      "metadata": {
        "id": "ZvUGN-0n6joM",
        "colab": {
          "base_uri": "https://localhost:8080/"
        },
        "outputId": "dccb9186-38e5-4a00-d1ff-c81bf58b51dd"
      },
      "source": [
        "filmes = set((\"Um Sonho de Liberdade\", \"O Poderoso Chefão\", \"O Poderoso Chefão II\", \"Batman: O Cavaleiro das Trevas\", \"12 Homens e uma Sentença\", \"A Lista de Schindler\", \"O Senhor dos Anéis: O Retorno do Rei\", \"Pulp Fiction: Tempo de Violência\", \"Homem Aranha sem volta pra Casa\", \"Três Homens em Conflito\"))\n",
        "print(filmes)\n",
        "print(type(filmes))"
      ],
      "execution_count": 41,
      "outputs": [
        {
          "output_type": "stream",
          "name": "stdout",
          "text": [
            "{'Um Sonho de Liberdade', 'O Poderoso Chefão', 'O Poderoso Chefão II', 'A Lista de Schindler', '12 Homens e uma Sentença', 'Homem Aranha sem volta pra Casa', 'Três Homens em Conflito', 'Pulp Fiction: Tempo de Violência', 'O Senhor dos Anéis: O Retorno do Rei', 'Batman: O Cavaleiro das Trevas'}\n",
            "<class 'set'>\n"
          ]
        }
      ]
    },
    {
      "cell_type": "markdown",
      "metadata": {
        "id": "ShkK35eQ6pAM"
      },
      "source": [
        "---"
      ]
    },
    {
      "cell_type": "markdown",
      "metadata": {
        "id": "EL_FzmxL6rTv"
      },
      "source": [
        "## 3\\. Dicionários"
      ]
    },
    {
      "cell_type": "markdown",
      "metadata": {
        "id": "i8l0gFqRCpfT"
      },
      "source": [
        "Repita os exercícios da parte 1 (listas). Os elementos da lista `filmes` devem ser dicionários no seguinte formato: `{'nome': <nome-do-filme>, 'ano': <ano do filme>}, 'sinopse': <sinopse do filme>}`. "
      ]
    },
    {
      "cell_type": "code",
      "source": [
        "filme1 = {\n",
        "    \"nome\": \"Um Sonho de Liberdade\",\n",
        "    \"ano\": 1994,\n",
        "    \"sinopse\": \"Dois homens presos se reúnem ao longo de vários anos, encontrando consolo e eventual redenção através de atos de decência comum.\"\n",
        "}\n",
        "filme2 = {\n",
        "    \"nome\": \"O Poderoso Chefão\",\n",
        "    \"ano\": 1972,\n",
        "    \"sinopse\": \"O patriarca idoso de uma dinastia do crime organizado transfere o controle de seu império clandestino para seu filho relutante.\"\n",
        "}\n",
        "filme3 = {\n",
        "    \"nome\": \"O Poderoso Chefão II\",\n",
        "    \"ano\": 1974,\n",
        "    \"sinopse\": \"Em 1950, Michael Corleone, agora à frente da família, tenta expandir o negócio do crime a Las Vegas, Los Angeles e Cuba.\"\n",
        "}\n",
        "filme4 = {\n",
        "    \"nome\": \"Batman: O Cavaleiro das Trevas\",\n",
        "    \"ano\": 2008,\n",
        "    \"sinopse\": \"Quando a ameaça conhecida como O Coringa surge de seu passado, causa estragos e caos nas pessoas de Gotham.\"\n",
        "}\n",
        "filme5 = {\n",
        "    \"nome\": \"12 Homens e uma Sentença\",\n",
        "    \"ano\": 1957,\n",
        "    \"sinopse\": \"Um jurado que se aposenta tenta evitar um erro judicial forçando seus colegas a reconsiderarem as evidências.\"\n",
        "}\n",
        "filme6 = {\n",
        "    \"nome\": \"A Lista de Schindler\",\n",
        "    \"ano\": 1993,\n",
        "    \"sinopse\": \"Depois de testemunhar a perseguição dos judaicos na Polônia ocupada pelos alemães durante a Segunda Guerra Mundial, o industrial Oskar Schindler se começa a preocupar com sua força de trabalho judaica.\"\n",
        "}\n",
        "filme7 = {\n",
        "    \"nome\": \"O Senhor dos Anéis: O Retorno do Rei \",\n",
        "    \"ano\": 2003,\n",
        "    \"sinopse\": \"Gandalf e Aragorn lideram o Mundo dos Homens contra o exército de Sauron para desviar o olhar de Frodo e Sam quando eles se aproximam á Montanha da Perdição com o Um Anel.\"\n",
        "}\n",
        "filme8 = {\n",
        "    \"nome\": \"Pulp Fiction: Tempo de Violência\",\n",
        "    \"ano\": 1994,\n",
        "    \"sinopse\": \"As vidas de dois assassinos da máfia, um boxeador, um gângster e sua esposa, e um par de bandidos se entrelaçam em quatro histórias de violência e redenção.\"\n",
        "}\n",
        "filme9 = {\n",
        "    \"nome\": \"Homem-Aranha: Sem Volta Para Casa \",\n",
        "    \"ano\": 2021,\n",
        "    \"sinopse\": \"Com a identidade do Homem-Aranha revelada, Peter pede ajuda ao Doutor Strange. Quando um feitiço corre mal, inimigos perigosos de outros mundos começam a aparecer, forçando Peter a descobrir o que realmente significa ser o Homem-Aranha.\"\n",
        "}\n",
        "filme10 = {\n",
        "    \"nome\": \"Três Homens em Conflito\",\n",
        "    \"ano\": 1966,\n",
        "    \"sinopse\": \"Um impostor se junta com dois homens para encontrar fortuna num remoto cemitério.\"\n",
        "}\n",
        "\n",
        "print(filme1)\n",
        "print(filme2)\n",
        "print(filme3)\n",
        "print(filme4)\n",
        "print(filme5)\n",
        "print(filme6)\n",
        "print(filme7)\n",
        "print(filme8)\n",
        "print(filme9)\n",
        "print(filme10)\n"
      ],
      "metadata": {
        "colab": {
          "base_uri": "https://localhost:8080/"
        },
        "id": "fB_5uJyXZY89",
        "outputId": "893758f3-4da7-46f8-9505-6212da3f6866"
      },
      "execution_count": 48,
      "outputs": [
        {
          "output_type": "stream",
          "name": "stdout",
          "text": [
            "{'nome': 'Um Sonho de Liberdade', 'ano': 1994, 'sinopse': 'Dois homens presos se reúnem ao longo de vários anos, encontrando consolo e eventual redenção através de atos de decência comum.'}\n",
            "{'nome': 'O Poderoso Chefão', 'ano': 1972, 'sinopse': 'O patriarca idoso de uma dinastia do crime organizado transfere o controle de seu império clandestino para seu filho relutante.'}\n",
            "{'nome': 'O Poderoso Chefão II', 'ano': 1974, 'sinopse': 'Em 1950, Michael Corleone, agora à frente da família, tenta expandir o negócio do crime a Las Vegas, Los Angeles e Cuba.'}\n",
            "{'nome': 'Batman: O Cavaleiro das Trevas', 'ano': 2008, 'sinopse': 'Quando a ameaça conhecida como O Coringa surge de seu passado, causa estragos e caos nas pessoas de Gotham.'}\n",
            "{'nome': '12 Homens e uma Sentença', 'ano': 1957, 'sinopse': 'Um jurado que se aposenta tenta evitar um erro judicial forçando seus colegas a reconsiderarem as evidências.'}\n",
            "{'nome': 'A Lista de Schindler', 'ano': 1993, 'sinopse': 'Depois de testemunhar a perseguição dos judaicos na Polônia ocupada pelos alemães durante a Segunda Guerra Mundial, o industrial Oskar Schindler se começa a preocupar com sua força de trabalho judaica.'}\n",
            "{'nome': 'O Senhor dos Anéis: O Retorno do Rei ', 'ano': 2003, 'sinopse': 'Gandalf e Aragorn lideram o Mundo dos Homens contra o exército de Sauron para desviar o olhar de Frodo e Sam quando eles se aproximam á Montanha da Perdição com o Um Anel.'}\n",
            "{'nome': 'Pulp Fiction: Tempo de Violência', 'ano': 1994, 'sinopse': 'As vidas de dois assassinos da máfia, um boxeador, um gângster e sua esposa, e um par de bandidos se entrelaçam em quatro histórias de violência e redenção.'}\n",
            "{'nome': 'Homem-Aranha: Sem Volta Para Casa ', 'ano': 2021, 'sinopse': 'Com a identidade do Homem-Aranha revelada, Peter pede ajuda ao Doutor Strange. Quando um feitiço corre mal, inimigos perigosos de outros mundos começam a aparecer, forçando Peter a descobrir o que realmente significa ser o Homem-Aranha.'}\n",
            "{'nome': 'Três Homens em Conflito', 'ano': 1966, 'sinopse': 'Um impostor se junta com dois homens para encontrar fortuna num remoto cemitério.'}\n"
          ]
        }
      ]
    }
  ]
}
