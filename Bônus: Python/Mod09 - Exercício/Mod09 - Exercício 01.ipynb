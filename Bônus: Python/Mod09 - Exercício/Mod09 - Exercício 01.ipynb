{
  "nbformat": 4,
  "nbformat_minor": 0,
  "metadata": {
    "colab": {
      "name": "modulo_9_exercicios.ipynb",
      "provenance": [],
      "collapsed_sections": []
    },
    "kernelspec": {
      "name": "python3",
      "display_name": "Python 3"
    }
  },
  "cells": [
    {
      "cell_type": "markdown",
      "metadata": {
        "id": "KJqp9AANOCtf"
      },
      "source": [
        "<img src=\"https://raw.githubusercontent.com/andre-marcos-perez/ebac-course-utils/main/media/logo/newebac_logo_black_half.png\" alt=\"ebac-logo\">\n",
        "\n",
        "---\n",
        "\n",
        "# **MÃ³dulo** | Python: Scripting\n",
        "Caderno de **ExercÃ­cios**<br> \n",
        "Professor [AndrÃ© Perez](https://www.linkedin.com/in/andremarcosperez/)\n",
        "\n",
        "---"
      ]
    },
    {
      "cell_type": "markdown",
      "metadata": {
        "id": "d9jDtUbDOE1-"
      },
      "source": [
        "# **TÃ³picos**\n",
        "\n",
        "<ol type=\"1\">\n",
        "  <li>Instalando o Python na prÃ³pria mÃ¡quina;</li>\n",
        "  <li>Executando cÃ³digo Python no terminal;</li>\n",
        "  <li>Criando arquivos de script Python.</li>\n",
        "</ol>"
      ]
    },
    {
      "cell_type": "markdown",
      "metadata": {
        "id": "SmoHgt-lwkpD"
      },
      "source": [
        "---"
      ]
    },
    {
      "cell_type": "markdown",
      "metadata": {
        "id": "GABI6OW8OfQ2"
      },
      "source": [
        "# **ExercÃ­cios**"
      ]
    },
    {
      "cell_type": "markdown",
      "metadata": {
        "id": "muD1vxozykSC"
      },
      "source": [
        "## 0\\. Preparando o ambiente"
      ]
    },
    {
      "cell_type": "markdown",
      "metadata": {
        "id": "4TT1IaG2DOuR"
      },
      "source": [
        " - Instalando o Python e o PIP na sua mÃ¡quina."
      ]
    },
    {
      "cell_type": "markdown",
      "metadata": {
        "id": "eTI82AggBgY3"
      },
      "source": [
        "Nestes exercÃ­cios vocÃª vai precisar do Python (versÃ£o 3.x) e do PIP instalados na sua mÃ¡quina. Abra o seu terminal (windows `cmd` ou linux/mcos `terminal`) e \n",
        "verifique se ambos estÃ£o instalados na sua mÃ¡quina.\n",
        "\n",
        "```shell\n",
        "python -V # possÃ­vel resultado: Python 3.8.5\n",
        "pip -V # possÃ­vel resultado: pip 20.0.2 ...\n",
        "```\n",
        "\n",
        "Se pelo menos um dos softwares nÃ£o estiver instalados na sua mÃ¡quina, siga as instruÃ§Ãµes da aula para instala-los. Se vocÃª tiver enfrentando algum problema, entre em contato com o tutor."
      ]
    },
    {
      "cell_type": "markdown",
      "metadata": {
        "id": "PfJij-X6DS3o"
      },
      "source": [
        " - Instalando os pacotes necessÃ¡rios."
      ]
    },
    {
      "cell_type": "markdown",
      "metadata": {
        "id": "qfhQuCEaDb3H"
      },
      "source": [
        "Instale os pacotes necessÃ¡rios para conduzir os exercÃ­cios.\n",
        "\n",
        "```shell\n",
        "pip install pandas==1.2.4 seaborn==0.11.1 requests==2.25.1\n",
        "```"
      ]
    },
    {
      "cell_type": "markdown",
      "metadata": {
        "id": "zMN1Q3jdwoJm"
      },
      "source": [
        "---"
      ]
    },
    {
      "cell_type": "markdown",
      "metadata": {
        "id": "GWgNoJN8DHyY"
      },
      "source": [
        "## 1\\. Script de ExtraÃ§Ã£o"
      ]
    },
    {
      "cell_type": "markdown",
      "metadata": {
        "id": "YynK1vf2DHyj"
      },
      "source": [
        "O *script* para extrair a taxa CDI do site da B3 foi adaptado para ser executado 10 vezes para gerar nossa base de dados. Na sua mÃ¡quina, crie o arquivo `extracao.py` com o `script` abaixo e execute-o com o comando:\n",
        "\n",
        "```shell\n",
        "python extracao.py\n",
        "```\n",
        "\n",
        "No final, vocÃª deve ter o arquivo `taxa-cdi.csv` com os dados extraÃ­dos."
      ]
    },
    {
      "cell_type": "code",
      "metadata": {
        "id": "hVK8QyFvE-wk",
        "outputId": "e3ea8fa8-7779-42ba-dc1a-29caa11029fb",
        "colab": {
          "base_uri": "https://localhost:8080/"
        }
      },
      "source": [
        "import os\n",
        "import time\n",
        "import json\n",
        "from random import random\n",
        "from datetime import datetime\n",
        "\n",
        "import requests\n",
        "\n",
        "URL = 'https://www2.cetip.com.br/ConsultarTaxaDi/ConsultarTaxaDICetip.aspx'\n",
        "\n",
        "# Criando a variÃ¡vel data e hora \n",
        "\n",
        "for _ in range(0, 10):\n",
        "\n",
        "  data_e_hora = datetime.now()\n",
        "  data = datetime.strftime(data_e_hora, '%Y/%m/%d')\n",
        "  hora = datetime.strftime(data_e_hora, '%H:%M:%S')\n",
        "\n",
        "  # Captando a taxa CDI do site da B3\n",
        "\n",
        "  try:\n",
        "    response = requests.get(URL)\n",
        "    response.raise_for_status()\n",
        "  except requests.HTTPError as exc:\n",
        "    print(\"Dado nÃ£o encontrado, continuando.\")\n",
        "    cdi = None\n",
        "  except Exception as exc:\n",
        "    print(\"Erro, parando a execuÃ§Ã£o.\")\n",
        "    raise exc\n",
        "  else:\n",
        "    dado = json.loads(response.text)\n",
        "    cdi = float(dado['taxa'].replace(',', '.')) + (random() - 0.5)\n",
        "\n",
        "  # Verificando se o arquivo \"taxa-cdi.csv\" existe\n",
        "\n",
        "  if os.path.exists('./taxa-cdi.csv') == False:\n",
        "\n",
        "    with open(file='./taxa-cdi.csv', mode='w', encoding='utf8') as fp:\n",
        "      fp.write('data,hora,taxa\\n')\n",
        "\n",
        "  # Salvando dados no arquivo \"taxa-cdi.csv\"\n",
        "\n",
        "  with open(file='./taxa-cdi.csv', mode='a', encoding='utf8') as fp:\n",
        "    fp.write(f'{data},{hora},{cdi}\\n')\n",
        "\n",
        "  time.sleep(2 + (random() - 0.5))\n",
        "\n",
        "print(\"Sucesso\")"
      ],
      "execution_count": 1,
      "outputs": [
        {
          "output_type": "stream",
          "name": "stdout",
          "text": [
            "Sucesso\n"
          ]
        }
      ]
    },
    {
      "cell_type": "markdown",
      "metadata": {
        "id": "waxn4B2UDHyl"
      },
      "source": [
        "---"
      ]
    },
    {
      "cell_type": "markdown",
      "metadata": {
        "id": "finLQoyyGVmk"
      },
      "source": [
        "## 2\\. Script de VisualizaÃ§Ã£o"
      ]
    },
    {
      "cell_type": "markdown",
      "metadata": {
        "id": "99BrnqR4GVmy"
      },
      "source": [
        "JÃ¡ o *script* para gerar um grafico da taxa CDI do site da B3 foi adaptado para utilizar o pacote Pandas. Na sua mÃ¡quina, crie o arquivo `visualizacao.py` com o `script` abaixo e execute-o com o comando:\n",
        "\n",
        "```shell\n",
        "python visualizacao.py <nome-do-grafico>\n",
        "```\n",
        "\n",
        "O *script* espera um parametro de entrada com o nome do grÃ¡fico, portanto substitua o `<nome-do-grafico>` pelo nome do seu grÃ¡fico. No final, vocÃª deve ter uma imagem no formato png com o nome passado via parametro contendo a visualizaÃ§Ã£o dos dados gerados pelo *script* de extraÃ§Ã£o.."
      ]
    },
    {
      "cell_type": "code",
      "metadata": {
        "id": "ozGsxHbPGVmz"
      },
      "source": [
        "import csv\n",
        "from sys import argv\n",
        "\n",
        "import pandas as pd\n",
        "import seaborn as sns\n",
        "\n",
        "# Extraindo as colunas hora e taxa\n",
        "\n",
        "df = pd.read_csv('./taxa-cdi.csv')\n",
        "\n",
        "# Salvando no grafico\n",
        "\n",
        "grafico = sns.lineplot(x=df['hora'], y=df['taxa'])\n",
        "_ = grafico.set_xticklabels(labels=df['hora'], rotation=90)\n",
        "grafico.get_figure().savefig(f\"{argv[1]}.png\")\n"
      ],
      "execution_count": null,
      "outputs": []
    },
    {
      "cell_type": "code",
      "source": [
        "!python visualizacao.py visuB3"
      ],
      "metadata": {
        "id": "JjcnO52Q3_CY"
      },
      "execution_count": 4,
      "outputs": []
    },
    {
      "cell_type": "markdown",
      "metadata": {
        "id": "As3enQc2GVm1"
      },
      "source": [
        "---"
      ]
    },
    {
      "cell_type": "markdown",
      "metadata": {
        "id": "SS1PxxfHILHs"
      },
      "source": [
        "## 3\\. Combinando os scripts de extraÃ§Ã£o e visualizaÃ§Ã£o."
      ]
    },
    {
      "cell_type": "markdown",
      "metadata": {
        "id": "R4hMJ6D2ILH3"
      },
      "source": [
        "Combine os *scripts* `visualizacao.py` e `extracao.py` no arquivo `analise.py` e execute-o na sua mÃ¡quina, ele deve retornar os mesmos resultados: o arquivo csv e a imagem no formato png com o tÃ­tulo escolhido via parametro de entrada. Procure seguir a organizaÃ§Ã£o proposta na aula (PEP8).\n",
        "\n",
        "```shell\n",
        "python analise.py <nome-do-grafico>\n",
        "```\n",
        "\n",
        "AlÃ©m disso, copie o cÃ³digo na cÃ©lula abaixo para que o tutor possa avaliar seu exercÃ­cios."
      ]
    },
    {
      "cell_type": "code",
      "metadata": {
        "id": "ogZClDvTILH3"
      },
      "source": [
        "import os\n",
        "import time\n",
        "import json\n",
        "import csv\n",
        "import requests\n",
        "\n",
        "from sys import argv\n",
        "from random import random\n",
        "from datetime import datetime\n",
        "\n",
        "import pandas as pd\n",
        "import seaborn as sns\n",
        "\n",
        "\n",
        "URL = 'https://www2.cetip.com.br/ConsultarTaxaDi/ConsultarTaxaDICetip.aspx'\n",
        "\n",
        "# Criando a variÃ¡vel data e hora \n",
        "\n",
        "for _ in range(0, 10):\n",
        "\n",
        "  data_e_hora = datetime.now()\n",
        "  data = datetime.strftime(data_e_hora, '%Y/%m/%d')\n",
        "  hora = datetime.strftime(data_e_hora, '%H:%M:%S')\n",
        "\n",
        "  # Captando a taxa CDI do site da B3\n",
        "\n",
        "  try:\n",
        "    response = requests.get(URL)\n",
        "    response.raise_for_status()\n",
        "  except requests.HTTPError as exc:\n",
        "    print(\"Dado nÃ£o encontrado, continuando.\")\n",
        "    cdi = None\n",
        "  except Exception as exc:\n",
        "    print(\"Erro, parando a execuÃ§Ã£o.\")\n",
        "    raise exc\n",
        "  else:\n",
        "    dado = json.loads(response.text)\n",
        "    cdi = float(dado['taxa'].replace(',', '.')) + (random() - 0.5)\n",
        "\n",
        "  # Verificando se o arquivo \"taxa-cdi.csv\" existe\n",
        "\n",
        "  if os.path.exists('./taxa-cdi.csv') == False:\n",
        "\n",
        "    with open(file='./taxa-cdi.csv', mode='w', encoding='utf8') as fp:\n",
        "      fp.write('data,hora,taxa\\n')\n",
        "\n",
        "  # Salvando dados no arquivo \"taxa-cdi.csv\"\n",
        "\n",
        "  with open(file='./taxa-cdi.csv', mode='a', encoding='utf8') as fp:\n",
        "    fp.write(f'{data},{hora},{cdi}\\n')\n",
        "\n",
        "  time.sleep(2 + (random() - 0.5))\n",
        "\n",
        "  # Extraindo as colunas hora e taxa\n",
        "\n",
        "df = pd.read_csv('./taxa-cdi.csv')\n",
        "\n",
        "# Salvando no grafico\n",
        "\n",
        "grafico = sns.lineplot(x=df['hora'], y=df['taxa'])\n",
        "_ = grafico.set_xticklabels(labels=df['hora'], rotation=90)\n",
        "grafico.get_figure().savefig(f\"{argv[1]}.png\")\n"
      ],
      "execution_count": null,
      "outputs": []
    },
    {
      "cell_type": "code",
      "source": [
        "!python analise.py final"
      ],
      "metadata": {
        "id": "D7PbsCib6Iby"
      },
      "execution_count": 8,
      "outputs": []
    },
    {
      "cell_type": "markdown",
      "metadata": {
        "id": "Fx--J2bOILH4"
      },
      "source": [
        "---"
      ]
    }
  ]
}
