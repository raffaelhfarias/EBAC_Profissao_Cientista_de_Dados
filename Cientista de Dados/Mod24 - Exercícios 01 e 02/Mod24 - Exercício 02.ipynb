{
 "cells": [
  {
   "cell_type": "markdown",
   "id": "adc03f6f",
   "metadata": {},
   "source": [
    "## Módulo 24 - Tarefa 02\n",
    "1. Cite 5 diferenças entre o AdaBoost e o GBM.\n",
    "2. Acesse o link [Scikit-learn - GBM](https://scikit-learn.org/stable/modules/ensemble.html), leia a explicação (traduza se for preciso) e crie um jupyter notebook contendo o exemplo de classificação e de regressão do GBM.\n",
    "3. Cite 5 Hyperparametros importantes no GBM.\n",
    "4. Acessando o artigo do Jerome Friedman [Stochastic](https://jerryfriedman.su.domains/ftp/stobst.pdf) e pensando no nome dado ao **Stochastic GBM**, qual é a maior diferença entre os dois algoritmos?\n",
    "\n",
    "## 1.\n",
    "\n",
    "### Árvores de Decisão vs Stumps de Decisão\n",
    "GBM faz uso de diversas árvores de decisão que possuem profundidades variadas. Já o AdaBoost utiliza Stumps de decisão, que nada mais são do que árvores de decisão com um nó e duas folhas apenas.\n",
    "\n",
    "### Pesos\n",
    "No GBM as decisões tomadas por cada árvore possuem o mesmo peso na decisão final e são multiplicados por uma mesma constante (eta), já no AdaBoost o peso de cada Stump pode variar, sendo que alguns Stumps terão mais peso na decisão final do que outros.\n",
    "\n",
    "### Primeiro Passo\n",
    "No AdaBoost o primeiro passo é um Stump de decisão, já no GBM primeiro tiramos a média da variável resposta pra apartir dai começarmos a criar árvores de decisão.\n",
    "\n",
    "### Resíduo vs Resposta\n",
    "No AdaBoost cada Stump fornece uma resposta, que por média ou votação considerando os pesos resulta na resposta final, no GBM cada árvore de decisão é criada para prever o resíduo, que depois é transformado na resposta final do modelo.\n",
    "\n",
    "### Base para a Árvore\n",
    "No AdaBoost a base de dados utilizada em cada Stump varia dependendo dos resultados obtidos no Stump anterior, no GBM cada árvore depende dos resíduos encontrados nas árvores anteriores."
   ]
  },
  {
   "cell_type": "markdown",
   "id": "2bdeb2b5",
   "metadata": {},
   "source": [
    "## 2."
   ]
  },
  {
   "cell_type": "code",
   "execution_count": 1,
   "id": "81cb458f",
   "metadata": {},
   "outputs": [],
   "source": [
    "from sklearn.datasets import make_hastie_10_2\n",
    "from sklearn.ensemble import GradientBoostingClassifier"
   ]
  },
  {
   "cell_type": "code",
   "execution_count": 2,
   "id": "967e5a47",
   "metadata": {},
   "outputs": [],
   "source": [
    "X, y = make_hastie_10_2(random_state=0)\n",
    "X_train, X_test = X[:2000], X[2000:]\n",
    "y_train, y_test = y[:2000], y[2000:]"
   ]
  },
  {
   "cell_type": "code",
   "execution_count": 3,
   "id": "4ae49b47",
   "metadata": {},
   "outputs": [],
   "source": [
    "clf = GradientBoostingClassifier(n_estimators=100, learning_rate=1.0, max_depth=1, random_state=0).fit(X_train, y_train)"
   ]
  },
  {
   "cell_type": "code",
   "execution_count": 4,
   "id": "a41c590b",
   "metadata": {},
   "outputs": [
    {
     "data": {
      "text/plain": [
       "0.913"
      ]
     },
     "execution_count": 4,
     "metadata": {},
     "output_type": "execute_result"
    }
   ],
   "source": [
    "clf.score(X_test, y_test)"
   ]
  },
  {
   "cell_type": "code",
   "execution_count": 5,
   "id": "2a6fef73",
   "metadata": {},
   "outputs": [],
   "source": [
    "import numpy as np\n",
    "from sklearn.metrics import mean_squared_error\n",
    "from sklearn.datasets import make_friedman1\n",
    "from sklearn.ensemble import GradientBoostingRegressor"
   ]
  },
  {
   "cell_type": "code",
   "execution_count": 6,
   "id": "b53b81c9",
   "metadata": {},
   "outputs": [],
   "source": [
    "X, y = make_friedman1(n_samples=1200, random_state=0, noise=1.0)\n",
    "X_train, X_test = X[:200], X[200:]\n",
    "y_train, y_test = y[:200], y[200:]"
   ]
  },
  {
   "cell_type": "code",
   "execution_count": 7,
   "id": "dabc8aeb",
   "metadata": {},
   "outputs": [],
   "source": [
    "est = GradientBoostingRegressor(n_estimators=100, learning_rate=0.1, \n",
    "                                max_depth=1, random_state=0, loss='squared_error').fit(X_train, y_train)"
   ]
  },
  {
   "cell_type": "code",
   "execution_count": 8,
   "id": "00f29df3",
   "metadata": {},
   "outputs": [
    {
     "data": {
      "text/plain": [
       "5.009154859960321"
      ]
     },
     "execution_count": 8,
     "metadata": {},
     "output_type": "execute_result"
    }
   ],
   "source": [
    "mean_squared_error(y_test, est.predict(X_test))"
   ]
  },
  {
   "cell_type": "markdown",
   "id": "7d8ad453",
   "metadata": {},
   "source": [
    "## 3.\n",
    "\n",
    "### n_estimators\n",
    "Número de etapas que o boosting precisa realizar. Gradient Boosting é robusto a overfitting, geralmente quanto maior o valor, melhor a performance.\n",
    "\n",
    "### learning_rate\n",
    "Reduz a contribuição de cada árvore pelo ***learning_rate***.\n",
    "\n",
    "### min_samples_leaf\n",
    "O número mínimo de amostras necessárias para estar em um nó folha. Um ponto de divisão em qualquer profundidade só será considerado se deixar pelo menos ***min_samples_leaf*** amostras de treinamento em cada um dos ramos esquerdo e direito. Isso pode ter o efeito de suavizar o modelo, especialmente na regressão.\n",
    "\n",
    "### max_depth\n",
    "A profundidade máxima dos estimadores de regressão individuais. A profundidade máxima limita o número de nós na árvore.\n",
    "\n",
    "### ccp_alpha\n",
    "Parâmetro de complexidade usado para Minimal Cost-Complexity Pruning. A subárvore com a maior complexidade de custo que for menor do que ccp_alpha será escolhida.\n",
    "\n",
    "## 4.\n",
    "A principal diferença é que no Stochastic GBM é a incorporação da aleatoriedade como parte integral do processo. Em cada iteração uma sub-amostra de base de treino é extraída de maneira aleatória (sem reposição) da base de treino completa. Etapa que não existe no GBM."
   ]
  }
 ],
 "metadata": {
  "kernelspec": {
   "display_name": "Python 3 (ipykernel)",
   "language": "python",
   "name": "python3"
  },
  "language_info": {
   "codemirror_mode": {
    "name": "ipython",
    "version": 3
   },
   "file_extension": ".py",
   "mimetype": "text/x-python",
   "name": "python",
   "nbconvert_exporter": "python",
   "pygments_lexer": "ipython3",
   "version": "3.9.12"
  }
 },
 "nbformat": 4,
 "nbformat_minor": 5
}
