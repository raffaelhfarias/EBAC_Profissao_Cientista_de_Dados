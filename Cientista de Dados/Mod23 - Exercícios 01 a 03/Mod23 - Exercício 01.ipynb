{
 "cells": [
  {
   "cell_type": "markdown",
   "id": "5151e5e6",
   "metadata": {},
   "source": [
    "# Módulo 23 - Tarefa 01\n",
    "\n",
    "1. Monte um passo a passo para o Bagging\n",
    "2. Explique com suas palavras o Bagging\n",
    "\n",
    "### Bagging\n",
    "\n",
    "Bagging, também conhecido como Bootstrap Aggregating, é uma técnica de aprendizagem em conjunto (Ensemble Learning) que ajuda a melhorar o desempenho e a precisão dos algoritmos de aprendizado de máquina (Machine Learning).\n",
    "<br>\n",
    "Bagging reduz a variância e evita o overfitting dos dados, é usado para modelos de regressão e classificação, especificamente para algoritmos de árvore de decisão.\n",
    "\n",
    "## Passo a passo:\n",
    "\n",
    "### **Bootstrap**\n",
    "\n",
    "Sendo uma base de treino $D$ com tamanho $n$, realizar o bootstrap (amostragem com reposição) é gerarmos $m$ novas bases de treino $D_i$, cada uma com tamanho $k$.\n",
    "<br>\n",
    "$D_i$ é gerado a partir de amostragens da base $D$, uniformemente, aleatóriamente e com reposição.\n",
    "\n",
    "### **Modelagem**\n",
    "\n",
    "Depois de criadas as bases de treino $D_i$ aplicamos o método de modelagem que desejamos a cada uma das $m$ bases de treino $D_i$.\n",
    "\n",
    "### **Aggregating**\n",
    "\n",
    "Depois de ajustarmos  modelos utilizando as  amostras do bootstrap, combinamos os resultados por sua média (para modelos de regressão) ou por votação (para modelos de classificação)."
   ]
  }
 ],
 "metadata": {
  "kernelspec": {
   "display_name": "Python 3 (ipykernel)",
   "language": "python",
   "name": "python3"
  },
  "language_info": {
   "codemirror_mode": {
    "name": "ipython",
    "version": 3
   },
   "file_extension": ".py",
   "mimetype": "text/x-python",
   "name": "python",
   "nbconvert_exporter": "python",
   "pygments_lexer": "ipython3",
   "version": "3.9.12"
  }
 },
 "nbformat": 4,
 "nbformat_minor": 5
}
