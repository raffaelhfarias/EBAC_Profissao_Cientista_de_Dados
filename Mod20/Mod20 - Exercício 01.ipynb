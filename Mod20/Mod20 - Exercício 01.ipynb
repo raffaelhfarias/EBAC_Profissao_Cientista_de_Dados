{
 "cells": [
  {
   "cell_type": "markdown",
   "id": "321c7a4a",
   "metadata": {},
   "source": [
    "# Markdown - Tarefa I\n",
    "\n",
    "<h1 style=\"color: #483D8B;\">\n",
    "  Fórmula de Bhaskara\n",
    "</h1>\n",
    "\n",
    "A solução para uma função de segundo grau depende das suas raízes (valor de x). Como já vimos, os coeficientes precisam ser números reais e o angular diferente de zero. Sendo assim, temos a seguinte fórmula de Bhaskara:\n",
    "\n",
    "# <center>$x=\\frac{-b\\pm\\sqrt{b²-4.a.c}}{2.a}$</center>\n",
    "\n",
    "<center>Fórmula de Bhaskara.</center>\n",
    "\n",
    "Para melhor compreesão o seu cálculo é dividido em duas partes: discriminante da equação e operações para determinar as raízes.\n",
    "\n",
    "**Discriminante**\n",
    "\n",
    "A figura dentro da raiz na fórmula de Bhaskara é nomeada de discriminante. Seu símbolo é a letra grena delta e apresenta a determinada fórmula:\n",
    "\n",
    "# <center>$\\Delta={b²{-4.a.c}}$</center>\n",
    "\n",
    "<center>Fórmula da discriminante.</center>\n",
    "\n",
    "- Se o delta for maior que zero, a equação terá dois valores reais e distintos.\n",
    "- Se o delta for igual a zero, a equação terá somente um valor real ou dois resultados iguais.\n",
    "- Se o delta for menor que zero, a equação não possuirá valores reais."
   ]
  }
 ],
 "metadata": {
  "kernelspec": {
   "display_name": "Python 3 (ipykernel)",
   "language": "python",
   "name": "python3"
  },
  "language_info": {
   "codemirror_mode": {
    "name": "ipython",
    "version": 3
   },
   "file_extension": ".py",
   "mimetype": "text/x-python",
   "name": "python",
   "nbconvert_exporter": "python",
   "pygments_lexer": "ipython3",
   "version": "3.9.13"
  }
 },
 "nbformat": 4,
 "nbformat_minor": 5
}
