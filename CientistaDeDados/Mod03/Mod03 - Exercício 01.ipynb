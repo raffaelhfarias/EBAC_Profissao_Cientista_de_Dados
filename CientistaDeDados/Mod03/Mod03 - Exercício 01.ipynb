{
 "cells": [
  {
   "cell_type": "markdown",
   "metadata": {},
   "source": [
    "### 01 - Teste de gravidez\n",
    "Escreva uma célula com controle de fluxos que tem como premissa a existência das seguintes variáveis:\n",
    "\n",
    "- ```sexo``` como ```str``` indicando os valores '**M**' para masculino e '**F**' para feminino  \n",
    "- ```beta_hcg``` que indica a quantidade do beta-HCG no sangue em mUI/mL.\n",
    "\n",
    "A sua tarefa é escrever um código que imprima como resultado \"indivíduo do sexo masculino\" quando sexo = 'M', caso sexo = 'F', se o valor de beta-HCG for maior que 5, retorne \"Positivo\" indicando que a paciente está grávida, e retorne \"Negativo\" caso contrário.\n",
    "\n",
    "Não mexa nos valores da variável ```sexo``` nem em ```beta_hcg```, e escreva um código que funcione para quaisquer valores possíveis de ambos: ```sexo``` = '**M**' ou '**F**' e ```beta_hcg``` assumindo valores inteiros positivos."
   ]
  },
  {
   "cell_type": "code",
   "execution_count": 21,
   "metadata": {},
   "outputs": [
    {
     "name": "stdout",
     "output_type": "stream",
     "text": [
      "Indivíduo do sexo masculino\n"
     ]
    }
   ],
   "source": [
    "sexo = 'M'\n",
    "beta_hcg = 0\n",
    "\n",
    "# seu código vem abaixo desta linha\n",
    "\n",
    "if beta_hcg < 5 and sexo == 'F':\n",
    "    print(\"Negativo\")\n",
    "elif beta_hcg >= 5 and sexo == 'F':\n",
    "    print(\"Positivo\")\n",
    "else:\n",
    "    print(\"Indivíduo do sexo masculino\")"
   ]
  },
  {
   "cell_type": "markdown",
   "metadata": {},
   "source": [
    "### 02 - Renomeando variáveis\n",
    "\n",
    "Vamos ver adiante que uma forma de renomear variáveis de um conjunto de dados é através de dicionários - o dicionário deve conter como chave o nome original, associando a cada chave um único valor (tipo *str*) que contenha o nome novo.\n",
    "\n",
    "A sua tarefa é escrever um dicionário que possa ser utilizado para traduzir as variáveis ```name``` (nome), ```age``` (idade) e ```income``` (renda). Ou seja, esse dicionário deve relacionar as chaves *name, age* e *income* às suas respectivas traduções."
   ]
  },
  {
   "cell_type": "code",
   "execution_count": 16,
   "metadata": {},
   "outputs": [
    {
     "data": {
      "text/plain": [
       "{'name': 'nome', 'idade': 'age', 'income': 'renda'}"
      ]
     },
     "execution_count": 16,
     "metadata": {},
     "output_type": "execute_result"
    }
   ],
   "source": [
    "dic_renomeacao = {'name':'nome', 'idade':'age', 'income':'renda'}\n",
    "dic_renomeacao"
   ]
  },
  {
   "cell_type": "markdown",
   "metadata": {},
   "source": [
    "### 03 - É divisível?\n",
    "A sua tarefa é escrever um código que indique se um número ```N``` é divisível por um número P. Escreva um programa que faça essa verificação para quaisquer combinações de ```N``` e ```M``` e devolva uma mensagem indicativa no output."
   ]
  },
  {
   "cell_type": "code",
   "execution_count": 17,
   "metadata": {},
   "outputs": [
    {
     "name": "stdout",
     "output_type": "stream",
     "text": [
      "Digite o valor desejado: 22\n",
      "A divisão é invalida N / P\n",
      "A divisão é valida N / M\n",
      "A divisão é invalida M / P\n"
     ]
    }
   ],
   "source": [
    "N = 42\n",
    "M = 7\n",
    "\n",
    "#Seu código\n",
    "\n",
    "P = int(input(\"Digite o valor desejado: \"))\n",
    "\n",
    "n_p = N % P\n",
    "n_m = N % M\n",
    "m_p =  M % P\n",
    "\n",
    "if n_p == 0 : \n",
    "    print(\"A divisão é valida N / P\")\n",
    "else:\n",
    "    print(\"A divisão é invalida N / P\")\n",
    "    \n",
    "if n_m == 0 :\n",
    "        print(\"A divisão é valida N / M\")\n",
    "else:\n",
    "    print(\"A divisão é invalida N / M\")\n",
    "    \n",
    "if m_p == 0:\n",
    "    print(\"A divisão é valida M / P\")\n",
    "else:\n",
    "    print(\"A divisão é invalida M / P\")   "
   ]
  },
  {
   "cell_type": "markdown",
   "metadata": {},
   "source": [
    "### 04 - Números primos\n",
    "> Um número **N** é primo se e somente se é divisível por 1, -1, por **N** e por -**N**.  \n",
    "\n",
    "Escreva um script que verifica se ```N``` é um número primo, verificando se ```N``` é divisível por todos os números de ```1``` a ```N-1```. Você vai precisar usar alguma ferramenta de *loop* que você aprendeu para isto. No final, devolva uma mensagem no output indicando se o número é primo ou não."
   ]
  },
  {
   "cell_type": "code",
   "execution_count": 18,
   "metadata": {},
   "outputs": [
    {
     "name": "stdout",
     "output_type": "stream",
     "text": [
      "N não é primo\n"
     ]
    }
   ],
   "source": [
    "N = 47\n",
    "\n",
    "# seu código abaixo\n",
    "\n",
    "if N > 1:\n",
    "    for i in range(1, N-1):\n",
    "        if (N % i) == 0:\n",
    "            print(\"N não é primo\")\n",
    "            break\n",
    "        else:\n",
    "            print(\"N é primo\")\n",
    "else:\n",
    "    print(\"N não é primo\")"
   ]
  },
  {
   "cell_type": "markdown",
   "metadata": {},
   "source": [
    "### 05 - Desafio\n",
    "O algorítmo do exercício anterior não é o mais eficiente. O que você pode fazer para deixá-lo mais eficiente? Ou seja, executar menos comparações, portanto consumir menos tempo.\n",
    "1. Será que precisamos correr o loop até o final sempre?\n",
    "2. Será que precisamos mesmo verificar **todos** os números?\n",
    "3. Será que precisamos ir até N-1?\n",
    "\n",
    "Essas perguntas levam ao tipo de pensamento voltado a deixar um algoritmo mais eficiente. Veja se você consegue melhorar o seu."
   ]
  },
  {
   "cell_type": "code",
   "execution_count": 19,
   "metadata": {},
   "outputs": [
    {
     "name": "stdout",
     "output_type": "stream",
     "text": [
      " Não\n"
     ]
    }
   ],
   "source": [
    "N = 98\n",
    "\n",
    "# seu código aqui\n",
    "\n",
    "def isPrime(n) :     \n",
    "    if (n <= 1) : \n",
    "        return False\n",
    "    if (n <= 3) : \n",
    "        return True   \n",
    "    if (n % 2 == 0 or n % 3 == 0) : \n",
    "        return False \n",
    "    i = 5\n",
    "    while(i * i <= n) : \n",
    "        if (n % i == 0 or n % (i + 2) == 0) : \n",
    "            return False\n",
    "        i = i + 6 \n",
    "    return True\n",
    "\n",
    "if (isPrime(N)) : \n",
    "    print(\" Sim\") \n",
    "else : \n",
    "    print(\" Não\")"
   ]
  },
  {
   "cell_type": "markdown",
   "metadata": {},
   "source": [
    "### 06 - Peso ideal 1\n",
    "O IMC (índice de massa corpórea) é um indicador de saúde mais bem aceito que o peso. Ele é calculado como:\n",
    "\n",
    "$$ IMC = \\dfrac{peso}{altura^2}$$\n",
    "\n",
    "Segundo a OMS, valores *normais* são entre 18.5 e 24.9.\n",
    "\n",
    "Sua tarefa é encontrar o ponto médio dessa faixa."
   ]
  },
  {
   "cell_type": "code",
   "execution_count": 20,
   "metadata": {},
   "outputs": [
    {
     "data": {
      "text/plain": [
       "21.7"
      ]
     },
     "execution_count": 20,
     "metadata": {},
     "output_type": "execute_result"
    }
   ],
   "source": [
    "imc_ideal = float(24.9+18.5)/2\n",
    "imc_ideal"
   ]
  },
  {
   "cell_type": "markdown",
   "metadata": {},
   "source": [
    "### 07 - Peso ideal 2\n",
    "Recebendo um valor de altura, encontre o peso '*ideal*' dessa pessoa, que fornece o IMC encontrado acima"
   ]
  },
  {
   "cell_type": "code",
   "execution_count": 21,
   "metadata": {},
   "outputs": [
    {
     "data": {
      "text/plain": [
       "62.712999999999994"
      ]
     },
     "execution_count": 21,
     "metadata": {},
     "output_type": "execute_result"
    }
   ],
   "source": [
    "altura = 1.70\n",
    "\n",
    "# Seu código\n",
    "peso_ideal = imc_ideal*(altura**2)\n",
    "peso_ideal"
   ]
  },
  {
   "cell_type": "markdown",
   "metadata": {},
   "source": [
    "### 08 - Peso ideal 3\n",
    "Dada uma lista contendo as alturas de pacientes, crie uma nova lista que contenha o peso '*ideal*' (que fornece o IMC calculado em **Peso ideal 1**) desses pacientes."
   ]
  },
  {
   "cell_type": "code",
   "execution_count": 22,
   "metadata": {},
   "outputs": [
    {
     "data": {
      "text/plain": [
       "array([42.315, 44.485, 36.89 , 35.805])"
      ]
     },
     "execution_count": 22,
     "metadata": {},
     "output_type": "execute_result"
    }
   ],
   "source": [
    "import numpy as np\n",
    "\n",
    "lista_alturas = [1.95, 2.05, 1.70, 1.65]\n",
    "\n",
    "lista_peso_ideal = []\n",
    "\n",
    "# seu código\n",
    "# calculo de IMC com uma variavel para cada valor da lista\n",
    "## metodo com array numpy\n",
    "alturas = np.array(lista_alturas)\n",
    "lista_peso_ideal = alturas*imc_ideal\n",
    "\n",
    "lista_peso_ideal"
   ]
  },
  {
   "cell_type": "markdown",
   "metadata": {},
   "source": [
    "### 09 - Peso ideal 4\n",
    "Dada uma lista de tuplas - cada elemento da lista é uma tupla contendo altura e peso de um paciente - crie uma nova lista com o IMC desses pacientes."
   ]
  },
  {
   "cell_type": "code",
   "execution_count": 23,
   "metadata": {},
   "outputs": [
    {
     "data": {
      "text/plain": [
       "[27.78, 27.55, 19.19]"
      ]
     },
     "execution_count": 23,
     "metadata": {},
     "output_type": "execute_result"
    }
   ],
   "source": [
    "altura_peso = [(1.80, 90), (1.65, 75), (1.91, 70)]\n",
    "\n",
    "imc = []\n",
    "\n",
    "# seu código\n",
    "lista_1 = altura_peso[0][:]\n",
    "lista_2 = altura_peso[1][:]\n",
    "lista_3 = altura_peso[2][:]\n",
    "\n",
    "# calculo de IMC com arredondamento de casas decimais\n",
    "imc_lista_1 = round(lista_1[1]/(lista_1[0]**2),2)\n",
    "imc_lista_2 = round(lista_2[1]/(lista_2[0]**2), 2)\n",
    "imc_lista_3 = round(lista_3[1]/(lista_3[0]**2),2)\n",
    "\n",
    "imc = [imc_lista_1, imc_lista_2, imc_lista_3]\n",
    "\n",
    "imc"
   ]
  },
  {
   "cell_type": "markdown",
   "metadata": {},
   "source": [
    "### 10 - Peso ideal 5\n",
    "Dada uma lista de **listas** - cada elemento da lista é uma **lista** contendo altura e peso de um paciente, adicione mais um elemento à lista de cada paciente contendo o IMC do paciente. Verifique também se é 'baixo', 'normal' ou 'alto' segundo os padrões da OMS em que normal é entre 18.5 e 24.9.\n",
    "\n",
    "Reflexão: por que no problema anterior temos que criar uma nova lista, e não podemos adicionar os dados de cada indivíduo à tupla?"
   ]
  },
  {
   "cell_type": "code",
   "execution_count": 24,
   "metadata": {},
   "outputs": [
    {
     "data": {
      "text/plain": [
       "[[1.8, 90, 27.78, 'ALTO'],\n",
       " [1.65, 75, 27.55, 'ALTO'],\n",
       " [1.91, 70, 19.19, 'NORMAL']]"
      ]
     },
     "execution_count": 24,
     "metadata": {},
     "output_type": "execute_result"
    }
   ],
   "source": [
    "altura_peso = [[1.80, 90], [1.65, 75], [1.91, 70]]\n",
    "\n",
    "# seu código\n",
    "\n",
    "# Etapa 1 - calculo de IMC com arredondamento de casas decimais\n",
    "imc_0 = round(altura_peso[0][1]/(altura_peso[0][0]**2),2)\n",
    "imc_1 = round(altura_peso[1][1]/(altura_peso[1][0]**2),2)\n",
    "imc_2 = round(altura_peso[2][1]/(altura_peso[2][0]**2),2)\n",
    "\n",
    "# Etapa 2 - incerindo os valores de IMC em suas respectivas listas \n",
    "altura_peso[0].append(imc_0)\n",
    "altura_peso[1].append(imc_1)\n",
    "altura_peso[2].append(imc_2)\n",
    "\n",
    "# Etapa 3 - avaliação da faixa do IMC e adição da informação a lista\n",
    "## Para IMC_0\n",
    "if (imc_0 >= 18.5 ) & (imc_0 <= 24.9):\n",
    "    altura_peso[0].append('NORMAL')\n",
    "elif imc_0 < 18.5 :\n",
    "    altura_peso[0].append('BAIXO')\n",
    "else :\n",
    "    altura_peso[0].append('ALTO')\n",
    "    \n",
    "## Para IMC_1    \n",
    "if (imc_1 >= 18.5 ) & (imc_1 <= 24.9):\n",
    "    altura_peso[1].append('NORMAL')\n",
    "elif imc_1 < 18.5 :\n",
    "    altura_peso[1].append('BAIXO')\n",
    "else :\n",
    "    altura_peso[1].append('ALTO')\n",
    "\n",
    "## Para IMC_2\n",
    "if (imc_2 >= 18.5 ) & (imc_2 <= 24.9):\n",
    "    altura_peso[2].append('NORMAL')\n",
    "elif imc_2 < 18.5 :\n",
    "    altura_peso[2].append('BAIXO')\n",
    "else :\n",
    "    altura_peso[2].append('ALTO')\n",
    "\n",
    "# Etapa 4 - printando a variavel\n",
    "altura_peso"
   ]
  }
 ],
 "metadata": {
  "kernelspec": {
   "display_name": "Python 3 (ipykernel)",
   "language": "python",
   "name": "python3"
  },
  "language_info": {
   "codemirror_mode": {
    "name": "ipython",
    "version": 3
   },
   "file_extension": ".py",
   "mimetype": "text/x-python",
   "name": "python",
   "nbconvert_exporter": "python",
   "pygments_lexer": "ipython3",
   "version": "3.9.12"
  }
 },
 "nbformat": 4,
 "nbformat_minor": 4
}
